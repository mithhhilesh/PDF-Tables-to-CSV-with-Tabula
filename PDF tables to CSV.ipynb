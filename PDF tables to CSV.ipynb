{
 "cells": [
  {
   "cell_type": "code",
   "execution_count": 15,
   "id": "1642248d-ac83-48b9-850e-c33b57d7d4f4",
   "metadata": {},
   "outputs": [
    {
     "name": "stdout",
     "output_type": "stream",
     "text": [
      "Reading: Tabled Pdf.pdf\n",
      "Saved final_output.csv with 66 rows\n"
     ]
    }
   ],
   "source": [
    "import tabula\n",
    "import pandas as pd\n",
    "\n",
    "pdf_file = \"Tabled Pdf.pdf\"\n",
    "\n",
    "if pdf_file:\n",
    "    print(\"Reading:\", pdf_file)\n",
    "\n",
    "    try:\n",
    "        tables = tabula.read_pdf(pdf_file, pages=\"all\", multiple_tables=True, lattice=True)\n",
    "\n",
    "        if not tables:\n",
    "            tables = tabula.read_pdf(pdf_file, pages=\"all\", multiple_tables=True, stream=True)\n",
    "\n",
    "        if tables:\n",
    "            final_df = tables[0]\n",
    "            for df in tables[1:]:\n",
    "                df.columns = final_df.columns  \n",
    "                final_df = pd.concat([final_df, df], ignore_index=True)\n",
    "\n",
    "            final_df.to_csv(\"final_output.csv\", index=False)\n",
    "            print(f\"Saved final_output.csv with {len(final_df)} rows\")\n",
    "\n",
    "        else:\n",
    "            print(\"No tables found. This PDF might be scanned or unstructured.\")\n",
    "\n",
    "    except Exception as e:\n",
    "        print(\"Error extracting tables:\", e)\n"
   ]
  },
  {
   "cell_type": "code",
   "execution_count": null,
   "id": "5a0a100a-5050-4d9f-be80-f224aa6cc815",
   "metadata": {},
   "outputs": [],
   "source": []
  },
  {
   "cell_type": "code",
   "execution_count": 21,
   "id": "6d2a6d8b-1dea-4c8a-b1da-1960648b5687",
   "metadata": {},
   "outputs": [
    {
     "data": {
      "text/html": [
       "<div>\n",
       "<style scoped>\n",
       "    .dataframe tbody tr th:only-of-type {\n",
       "        vertical-align: middle;\n",
       "    }\n",
       "\n",
       "    .dataframe tbody tr th {\n",
       "        vertical-align: top;\n",
       "    }\n",
       "\n",
       "    .dataframe thead th {\n",
       "        text-align: right;\n",
       "    }\n",
       "</style>\n",
       "<table border=\"1\" class=\"dataframe\">\n",
       "  <thead>\n",
       "    <tr style=\"text-align: right;\">\n",
       "      <th></th>\n",
       "      <th>Unnamed: 0</th>\n",
       "      <th>Continuous\\rAssessment-1\\rfreezed</th>\n",
       "      <th>Internal Test-1\\rfreezed</th>\n",
       "      <th>Unnamed: 3</th>\n",
       "    </tr>\n",
       "  </thead>\n",
       "  <tbody>\n",
       "    <tr>\n",
       "      <th>0</th>\n",
       "      <td>1.0</td>\n",
       "      <td>Siya Prashant Vaidya</td>\n",
       "      <td>5</td>\n",
       "      <td>17.0</td>\n",
       "    </tr>\n",
       "    <tr>\n",
       "      <th>1</th>\n",
       "      <td>2.0</td>\n",
       "      <td>Nidhi Singh</td>\n",
       "      <td>5</td>\n",
       "      <td>15.0</td>\n",
       "    </tr>\n",
       "    <tr>\n",
       "      <th>2</th>\n",
       "      <td>3.0</td>\n",
       "      <td>Mahek Gidwani</td>\n",
       "      <td>5</td>\n",
       "      <td>11.0</td>\n",
       "    </tr>\n",
       "    <tr>\n",
       "      <th>3</th>\n",
       "      <td>4.0</td>\n",
       "      <td>Purva Vinod Bidwaik</td>\n",
       "      <td>5</td>\n",
       "      <td>7.0</td>\n",
       "    </tr>\n",
       "    <tr>\n",
       "      <th>4</th>\n",
       "      <td>5.0</td>\n",
       "      <td>Suhani Jain</td>\n",
       "      <td>5</td>\n",
       "      <td>9.0</td>\n",
       "    </tr>\n",
       "  </tbody>\n",
       "</table>\n",
       "</div>"
      ],
      "text/plain": [
       "   Unnamed: 0 Continuous\\rAssessment-1\\rfreezed  Internal Test-1\\rfreezed  \\\n",
       "0         1.0              Siya Prashant Vaidya                         5   \n",
       "1         2.0                       Nidhi Singh                         5   \n",
       "2         3.0                     Mahek Gidwani                         5   \n",
       "3         4.0               Purva Vinod Bidwaik                         5   \n",
       "4         5.0                       Suhani Jain                         5   \n",
       "\n",
       "   Unnamed: 3  \n",
       "0        17.0  \n",
       "1        15.0  \n",
       "2        11.0  \n",
       "3         7.0  \n",
       "4         9.0  "
      ]
     },
     "execution_count": 21,
     "metadata": {},
     "output_type": "execute_result"
    }
   ],
   "source": [
    "df = pd.read_csv(\"final_output.csv\",skiprows = 1)\n",
    "df.head()\n"
   ]
  },
  {
   "cell_type": "code",
   "execution_count": 23,
   "id": "b49295b6-1304-41ea-bfdd-7365e19379fe",
   "metadata": {},
   "outputs": [
    {
     "name": "stdout",
     "output_type": "stream",
     "text": [
      "    Unnamed: 0 Continuous\\rAssessment-1\\rfreezed  Internal Test-1\\rfreezed  \\\n",
      "0          1.0              Siya Prashant Vaidya                         5   \n",
      "1          2.0                       Nidhi Singh                         5   \n",
      "2          3.0                     Mahek Gidwani                         5   \n",
      "3          4.0               Purva Vinod Bidwaik                         5   \n",
      "4          5.0                       Suhani Jain                         5   \n",
      "..         ...                               ...                       ...   \n",
      "60        62.0                        Raj Gajare                         5   \n",
      "61        63.0                      Akshat Singh                         5   \n",
      "62        64.0                  Shreyashi Bandey                         5   \n",
      "63        65.0                   Ujwal Chikankar                         5   \n",
      "64        66.0                       Ram Chandak                         5   \n",
      "\n",
      "    Unnamed: 3  Total Marks  \n",
      "0         17.0         22.0  \n",
      "1         15.0         20.0  \n",
      "2         11.0         16.0  \n",
      "3          7.0         12.0  \n",
      "4          9.0         14.0  \n",
      "..         ...          ...  \n",
      "60         7.0         12.0  \n",
      "61         8.0         13.0  \n",
      "62         9.0         14.0  \n",
      "63        16.0         21.0  \n",
      "64        11.0         16.0  \n",
      "\n",
      "[65 rows x 5 columns]\n"
     ]
    }
   ],
   "source": [
    "df[\"Total Marks\"] = df[\"Internal Test-1\\rfreezed\"] + df[\"Unnamed: 3\"]\n",
    "print(df)\n"
   ]
  },
  {
   "cell_type": "code",
   "execution_count": 25,
   "id": "e25d85de-081a-47cd-b244-df4f13024980",
   "metadata": {},
   "outputs": [
    {
     "name": "stdout",
     "output_type": "stream",
     "text": [
      "Mean of Total Marks: 15.569230769230769\n"
     ]
    }
   ],
   "source": [
    "mean_total = df[\"Total Marks\"].mean()\n",
    "print(\"Mean of Total Marks:\", mean_total)\n"
   ]
  },
  {
   "cell_type": "code",
   "execution_count": 27,
   "id": "f8faa3e2-a028-4bb1-8377-1120601f0118",
   "metadata": {},
   "outputs": [
    {
     "name": "stdout",
     "output_type": "stream",
     "text": [
      "Standard Deviation of Total Marks: 3.5353979212442916\n"
     ]
    }
   ],
   "source": [
    "std_total = df[\"Total Marks\"].std()\n",
    "print(\"Standard Deviation of Total Marks:\", std_total)\n"
   ]
  },
  {
   "cell_type": "code",
   "execution_count": null,
   "id": "a1e8fdf9-9675-4fc8-8498-78c30bfeb4f2",
   "metadata": {},
   "outputs": [],
   "source": []
  }
 ],
 "metadata": {
  "kernelspec": {
   "display_name": "Python 3 (ipykernel)",
   "language": "python",
   "name": "python3"
  },
  "language_info": {
   "codemirror_mode": {
    "name": "ipython",
    "version": 3
   },
   "file_extension": ".py",
   "mimetype": "text/x-python",
   "name": "python",
   "nbconvert_exporter": "python",
   "pygments_lexer": "ipython3",
   "version": "3.12.3"
  }
 },
 "nbformat": 4,
 "nbformat_minor": 5
}
